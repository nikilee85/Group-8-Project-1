{
 "cells": [
  {
   "cell_type": "code",
   "execution_count": 176,
   "metadata": {},
   "outputs": [],
   "source": [
    "# Import dependencies\n",
    "\n",
    "import pandas as pd\n",
    "import matplotlib.pyplot as plt\n",
    "import numpy as np"
   ]
  },
  {
   "cell_type": "markdown",
   "metadata": {},
   "source": [
    "# Read and open file \n",
    "df_9 = pd.read_csv(\"employfund_data_datesplit.zip\", compression=\"zip\", header=0, na_filter=False)\n",
    "df_9.head()"
   ]
  },
  {
   "cell_type": "code",
   "execution_count": 16,
   "metadata": {},
   "outputs": [
    {
     "name": "stdout",
     "output_type": "stream",
     "text": [
      "['Under 12 Months' '24 to 59 Months' '60+ Months' '12 to 23 Months' 'NULL']\n",
      "['50 to 54 years' '25 to 29 years' '30 to 39 years' 'Under 22 years'\n",
      " '22 to 24 years' '40 to 49 years' '55 to 59 years' '60+ years' 'NULL']\n"
     ]
    }
   ],
   "source": [
    "# Unique values in UE group\n",
    "print(df_9.UE_GROUP.unique())\n",
    "print(df_9.AGE_GROUP.unique())\n"
   ]
  },
  {
   "cell_type": "code",
   "execution_count": 150,
   "metadata": {},
   "outputs": [
    {
     "data": {
      "text/plain": [
       "array(['Under 12 Months', '24 to 59 Months', '60+ Months',\n",
       "       '12 to 23 Months'], dtype=object)"
      ]
     },
     "execution_count": 150,
     "metadata": {},
     "output_type": "execute_result"
    }
   ],
   "source": [
    "# Remove NULL figures from UE Group\n",
    "df_10 = df_9.loc[(df_9[\"UE_GROUP\"] != \"NULL\")]\n",
    "df_10[\"UE_GROUP\"].unique()"
   ]
  },
  {
   "cell_type": "code",
   "execution_count": 151,
   "metadata": {},
   "outputs": [
    {
     "data": {
      "text/html": [
       "<div>\n",
       "<style scoped>\n",
       "    .dataframe tbody tr th:only-of-type {\n",
       "        vertical-align: middle;\n",
       "    }\n",
       "\n",
       "    .dataframe tbody tr th {\n",
       "        vertical-align: top;\n",
       "    }\n",
       "\n",
       "    .dataframe thead th {\n",
       "        text-align: right;\n",
       "    }\n",
       "</style>\n",
       "<table border=\"1\" class=\"dataframe\">\n",
       "  <thead>\n",
       "    <tr style=\"text-align: right;\">\n",
       "      <th></th>\n",
       "      <th>EXPENDITURE</th>\n",
       "      <th>DERIVED_DATE_OF_SERVICE</th>\n",
       "      <th>AGE_GROUP</th>\n",
       "      <th>UE_GROUP</th>\n",
       "      <th>YEAR</th>\n",
       "      <th>MONTH</th>\n",
       "    </tr>\n",
       "  </thead>\n",
       "  <tbody>\n",
       "    <tr>\n",
       "      <th>0</th>\n",
       "      <td>150.0</td>\n",
       "      <td>2016-01-04</td>\n",
       "      <td>50 to 54 years</td>\n",
       "      <td>Under 12 Months</td>\n",
       "      <td>2016</td>\n",
       "      <td>1</td>\n",
       "    </tr>\n",
       "    <tr>\n",
       "      <th>1</th>\n",
       "      <td>300.0</td>\n",
       "      <td>2015-12-21</td>\n",
       "      <td>50 to 54 years</td>\n",
       "      <td>Under 12 Months</td>\n",
       "      <td>2015</td>\n",
       "      <td>12</td>\n",
       "    </tr>\n",
       "    <tr>\n",
       "      <th>2</th>\n",
       "      <td>150.0</td>\n",
       "      <td>2016-01-11</td>\n",
       "      <td>50 to 54 years</td>\n",
       "      <td>Under 12 Months</td>\n",
       "      <td>2016</td>\n",
       "      <td>1</td>\n",
       "    </tr>\n",
       "    <tr>\n",
       "      <th>3</th>\n",
       "      <td>150.0</td>\n",
       "      <td>2016-02-08</td>\n",
       "      <td>50 to 54 years</td>\n",
       "      <td>Under 12 Months</td>\n",
       "      <td>2016</td>\n",
       "      <td>2</td>\n",
       "    </tr>\n",
       "    <tr>\n",
       "      <th>4</th>\n",
       "      <td>225.0</td>\n",
       "      <td>2016-02-18</td>\n",
       "      <td>25 to 29 years</td>\n",
       "      <td>24 to 59 Months</td>\n",
       "      <td>2016</td>\n",
       "      <td>2</td>\n",
       "    </tr>\n",
       "    <tr>\n",
       "      <th>...</th>\n",
       "      <td>...</td>\n",
       "      <td>...</td>\n",
       "      <td>...</td>\n",
       "      <td>...</td>\n",
       "      <td>...</td>\n",
       "      <td>...</td>\n",
       "    </tr>\n",
       "    <tr>\n",
       "      <th>1234400</th>\n",
       "      <td>125.4</td>\n",
       "      <td>2016-11-29</td>\n",
       "      <td>55 to 59 years</td>\n",
       "      <td>Under 12 Months</td>\n",
       "      <td>2016</td>\n",
       "      <td>11</td>\n",
       "    </tr>\n",
       "    <tr>\n",
       "      <th>1234401</th>\n",
       "      <td>125.4</td>\n",
       "      <td>2016-11-15</td>\n",
       "      <td>55 to 59 years</td>\n",
       "      <td>Under 12 Months</td>\n",
       "      <td>2016</td>\n",
       "      <td>11</td>\n",
       "    </tr>\n",
       "    <tr>\n",
       "      <th>1234402</th>\n",
       "      <td>125.4</td>\n",
       "      <td>2016-12-13</td>\n",
       "      <td>55 to 59 years</td>\n",
       "      <td>Under 12 Months</td>\n",
       "      <td>2016</td>\n",
       "      <td>12</td>\n",
       "    </tr>\n",
       "    <tr>\n",
       "      <th>1234403</th>\n",
       "      <td>44.9</td>\n",
       "      <td>2015-10-29</td>\n",
       "      <td>30 to 39 years</td>\n",
       "      <td>12 to 23 Months</td>\n",
       "      <td>2015</td>\n",
       "      <td>10</td>\n",
       "    </tr>\n",
       "    <tr>\n",
       "      <th>1234404</th>\n",
       "      <td>211.2</td>\n",
       "      <td>2015-11-12</td>\n",
       "      <td>30 to 39 years</td>\n",
       "      <td>12 to 23 Months</td>\n",
       "      <td>2015</td>\n",
       "      <td>11</td>\n",
       "    </tr>\n",
       "  </tbody>\n",
       "</table>\n",
       "<p>1234299 rows × 6 columns</p>\n",
       "</div>"
      ],
      "text/plain": [
       "         EXPENDITURE DERIVED_DATE_OF_SERVICE       AGE_GROUP         UE_GROUP  \\\n",
       "0              150.0              2016-01-04  50 to 54 years  Under 12 Months   \n",
       "1              300.0              2015-12-21  50 to 54 years  Under 12 Months   \n",
       "2              150.0              2016-01-11  50 to 54 years  Under 12 Months   \n",
       "3              150.0              2016-02-08  50 to 54 years  Under 12 Months   \n",
       "4              225.0              2016-02-18  25 to 29 years  24 to 59 Months   \n",
       "...              ...                     ...             ...              ...   \n",
       "1234400        125.4              2016-11-29  55 to 59 years  Under 12 Months   \n",
       "1234401        125.4              2016-11-15  55 to 59 years  Under 12 Months   \n",
       "1234402        125.4              2016-12-13  55 to 59 years  Under 12 Months   \n",
       "1234403         44.9              2015-10-29  30 to 39 years  12 to 23 Months   \n",
       "1234404        211.2              2015-11-12  30 to 39 years  12 to 23 Months   \n",
       "\n",
       "         YEAR  MONTH  \n",
       "0        2016      1  \n",
       "1        2015     12  \n",
       "2        2016      1  \n",
       "3        2016      2  \n",
       "4        2016      2  \n",
       "...       ...    ...  \n",
       "1234400  2016     11  \n",
       "1234401  2016     11  \n",
       "1234402  2016     12  \n",
       "1234403  2015     10  \n",
       "1234404  2015     11  \n",
       "\n",
       "[1234299 rows x 6 columns]"
      ]
     },
     "execution_count": 151,
     "metadata": {},
     "output_type": "execute_result"
    }
   ],
   "source": [
    "UE_analysis_df = df_10[[\"EXPENDITURE\", \"DERIVED_DATE_OF_SERVICE\", \"AGE_GROUP\", \"UE_GROUP\", \"YEAR\", \"MONTH\"]]\n",
    "UE_analysis_df"
   ]
  },
  {
   "cell_type": "code",
   "execution_count": 152,
   "metadata": {},
   "outputs": [
    {
     "data": {
      "text/plain": [
       "array(['Under 12 Months', '24 to 59 Months', '60+ Months',\n",
       "       '12 to 23 Months'], dtype=object)"
      ]
     },
     "execution_count": 152,
     "metadata": {},
     "output_type": "execute_result"
    }
   ],
   "source": [
    "UE_analysis_df.UE_GROUP.unique()"
   ]
  },
  {
   "cell_type": "code",
   "execution_count": 153,
   "metadata": {},
   "outputs": [],
   "source": [
    "# Stratify by age group\n",
    "UE_analysis_df_u22 = UE_analysis_df.loc[(UE_analysis_df[\"AGE_GROUP\"] == \"Under 22 years\")]\n",
    "UE_analysis_df_22_24 = UE_analysis_df.loc[(UE_analysis_df[\"AGE_GROUP\"] == \"22 to 24 years\")]\n",
    "UE_analysis_df_25_29 = UE_analysis_df.loc[(UE_analysis_df[\"AGE_GROUP\"] == \"25 to 29 years\")]\n",
    "UE_analysis_df_30_39 = UE_analysis_df.loc[(UE_analysis_df[\"AGE_GROUP\"] == \"30 to 29 years\")]\n",
    "UE_analysis_df_40_49 = UE_analysis_df.loc[(UE_analysis_df[\"AGE_GROUP\"] == \"40 to 49 years\")]\n",
    "UE_analysis_df_50_54 = UE_analysis_df.loc[(UE_analysis_df[\"AGE_GROUP\"] == \"50 to 54 years\")]\n",
    "UE_analysis_df_55_59 = UE_analysis_df.loc[(UE_analysis_df[\"AGE_GROUP\"] == \"55 to 59 years\")]\n",
    "UE_analysis_df_60_ = UE_analysis_df.loc[(UE_analysis_df[\"AGE_GROUP\"] == \"60+ years\")]"
   ]
  },
  {
   "cell_type": "code",
   "execution_count": 154,
   "metadata": {},
   "outputs": [
    {
     "data": {
      "text/html": [
       "<div>\n",
       "<style scoped>\n",
       "    .dataframe tbody tr th:only-of-type {\n",
       "        vertical-align: middle;\n",
       "    }\n",
       "\n",
       "    .dataframe tbody tr th {\n",
       "        vertical-align: top;\n",
       "    }\n",
       "\n",
       "    .dataframe thead th {\n",
       "        text-align: right;\n",
       "    }\n",
       "</style>\n",
       "<table border=\"1\" class=\"dataframe\">\n",
       "  <thead>\n",
       "    <tr style=\"text-align: right;\">\n",
       "      <th></th>\n",
       "      <th>EXPENDITURE</th>\n",
       "      <th>DERIVED_DATE_OF_SERVICE</th>\n",
       "      <th>AGE_GROUP</th>\n",
       "      <th>UE_GROUP</th>\n",
       "      <th>YEAR</th>\n",
       "      <th>MONTH</th>\n",
       "    </tr>\n",
       "  </thead>\n",
       "  <tbody>\n",
       "    <tr>\n",
       "      <th>4</th>\n",
       "      <td>225.0</td>\n",
       "      <td>2016-02-18</td>\n",
       "      <td>25 to 29 years</td>\n",
       "      <td>24 to 59 Months</td>\n",
       "      <td>2016</td>\n",
       "      <td>2</td>\n",
       "    </tr>\n",
       "    <tr>\n",
       "      <th>5</th>\n",
       "      <td>300.0</td>\n",
       "      <td>2016-02-26</td>\n",
       "      <td>25 to 29 years</td>\n",
       "      <td>24 to 59 Months</td>\n",
       "      <td>2016</td>\n",
       "      <td>2</td>\n",
       "    </tr>\n",
       "    <tr>\n",
       "      <th>6</th>\n",
       "      <td>225.0</td>\n",
       "      <td>2016-02-18</td>\n",
       "      <td>25 to 29 years</td>\n",
       "      <td>24 to 59 Months</td>\n",
       "      <td>2016</td>\n",
       "      <td>2</td>\n",
       "    </tr>\n",
       "    <tr>\n",
       "      <th>7</th>\n",
       "      <td>300.0</td>\n",
       "      <td>2016-03-01</td>\n",
       "      <td>25 to 29 years</td>\n",
       "      <td>24 to 59 Months</td>\n",
       "      <td>2016</td>\n",
       "      <td>3</td>\n",
       "    </tr>\n",
       "    <tr>\n",
       "      <th>8</th>\n",
       "      <td>150.0</td>\n",
       "      <td>2016-08-30</td>\n",
       "      <td>25 to 29 years</td>\n",
       "      <td>24 to 59 Months</td>\n",
       "      <td>2016</td>\n",
       "      <td>8</td>\n",
       "    </tr>\n",
       "    <tr>\n",
       "      <th>...</th>\n",
       "      <td>...</td>\n",
       "      <td>...</td>\n",
       "      <td>...</td>\n",
       "      <td>...</td>\n",
       "      <td>...</td>\n",
       "      <td>...</td>\n",
       "    </tr>\n",
       "    <tr>\n",
       "      <th>1234296</th>\n",
       "      <td>151.0</td>\n",
       "      <td>2016-10-17</td>\n",
       "      <td>25 to 29 years</td>\n",
       "      <td>24 to 59 Months</td>\n",
       "      <td>2016</td>\n",
       "      <td>10</td>\n",
       "    </tr>\n",
       "    <tr>\n",
       "      <th>1234348</th>\n",
       "      <td>53.5</td>\n",
       "      <td>2016-09-29</td>\n",
       "      <td>25 to 29 years</td>\n",
       "      <td>60+ Months</td>\n",
       "      <td>2016</td>\n",
       "      <td>9</td>\n",
       "    </tr>\n",
       "    <tr>\n",
       "      <th>1234349</th>\n",
       "      <td>1650.0</td>\n",
       "      <td>2017-05-22</td>\n",
       "      <td>25 to 29 years</td>\n",
       "      <td>60+ Months</td>\n",
       "      <td>2017</td>\n",
       "      <td>5</td>\n",
       "    </tr>\n",
       "    <tr>\n",
       "      <th>1234350</th>\n",
       "      <td>30.4</td>\n",
       "      <td>2017-02-17</td>\n",
       "      <td>25 to 29 years</td>\n",
       "      <td>60+ Months</td>\n",
       "      <td>2017</td>\n",
       "      <td>2</td>\n",
       "    </tr>\n",
       "    <tr>\n",
       "      <th>1234393</th>\n",
       "      <td>330.0</td>\n",
       "      <td>2016-05-25</td>\n",
       "      <td>25 to 29 years</td>\n",
       "      <td>60+ Months</td>\n",
       "      <td>2016</td>\n",
       "      <td>5</td>\n",
       "    </tr>\n",
       "  </tbody>\n",
       "</table>\n",
       "<p>158935 rows × 6 columns</p>\n",
       "</div>"
      ],
      "text/plain": [
       "         EXPENDITURE DERIVED_DATE_OF_SERVICE       AGE_GROUP         UE_GROUP  \\\n",
       "4              225.0              2016-02-18  25 to 29 years  24 to 59 Months   \n",
       "5              300.0              2016-02-26  25 to 29 years  24 to 59 Months   \n",
       "6              225.0              2016-02-18  25 to 29 years  24 to 59 Months   \n",
       "7              300.0              2016-03-01  25 to 29 years  24 to 59 Months   \n",
       "8              150.0              2016-08-30  25 to 29 years  24 to 59 Months   \n",
       "...              ...                     ...             ...              ...   \n",
       "1234296        151.0              2016-10-17  25 to 29 years  24 to 59 Months   \n",
       "1234348         53.5              2016-09-29  25 to 29 years       60+ Months   \n",
       "1234349       1650.0              2017-05-22  25 to 29 years       60+ Months   \n",
       "1234350         30.4              2017-02-17  25 to 29 years       60+ Months   \n",
       "1234393        330.0              2016-05-25  25 to 29 years       60+ Months   \n",
       "\n",
       "         YEAR  MONTH  \n",
       "4        2016      2  \n",
       "5        2016      2  \n",
       "6        2016      2  \n",
       "7        2016      3  \n",
       "8        2016      8  \n",
       "...       ...    ...  \n",
       "1234296  2016     10  \n",
       "1234348  2016      9  \n",
       "1234349  2017      5  \n",
       "1234350  2017      2  \n",
       "1234393  2016      5  \n",
       "\n",
       "[158935 rows x 6 columns]"
      ]
     },
     "execution_count": 154,
     "metadata": {},
     "output_type": "execute_result"
    }
   ],
   "source": [
    "UE_analysis_df_25_29"
   ]
  },
  {
   "cell_type": "code",
   "execution_count": 219,
   "metadata": {},
   "outputs": [
    {
     "data": {
      "text/html": [
       "<div>\n",
       "<style scoped>\n",
       "    .dataframe tbody tr th:only-of-type {\n",
       "        vertical-align: middle;\n",
       "    }\n",
       "\n",
       "    .dataframe tbody tr th {\n",
       "        vertical-align: top;\n",
       "    }\n",
       "\n",
       "    .dataframe thead th {\n",
       "        text-align: right;\n",
       "    }\n",
       "</style>\n",
       "<table border=\"1\" class=\"dataframe\">\n",
       "  <thead>\n",
       "    <tr style=\"text-align: right;\">\n",
       "      <th></th>\n",
       "      <th>2015</th>\n",
       "      <th>2016</th>\n",
       "      <th>2017</th>\n",
       "    </tr>\n",
       "    <tr>\n",
       "      <th>AGE_GROUP</th>\n",
       "      <th></th>\n",
       "      <th></th>\n",
       "      <th></th>\n",
       "    </tr>\n",
       "  </thead>\n",
       "  <tbody>\n",
       "    <tr>\n",
       "      <th>Under 22 years</th>\n",
       "      <td>4645259.90</td>\n",
       "      <td>19997427.95</td>\n",
       "      <td>11241241.13</td>\n",
       "    </tr>\n",
       "    <tr>\n",
       "      <th>22 to 24 years</th>\n",
       "      <td>2736896.21</td>\n",
       "      <td>12536421.99</td>\n",
       "      <td>7331182.13</td>\n",
       "    </tr>\n",
       "    <tr>\n",
       "      <th>25 to 29 years</th>\n",
       "      <td>3381514.49</td>\n",
       "      <td>15503352.39</td>\n",
       "      <td>9820264.80</td>\n",
       "    </tr>\n",
       "    <tr>\n",
       "      <th>30 to 39 years</th>\n",
       "      <td>5821662.85</td>\n",
       "      <td>27218781.06</td>\n",
       "      <td>16923600.29</td>\n",
       "    </tr>\n",
       "    <tr>\n",
       "      <th>40 to 49 years</th>\n",
       "      <td>5902459.00</td>\n",
       "      <td>26964781.01</td>\n",
       "      <td>16642302.69</td>\n",
       "    </tr>\n",
       "    <tr>\n",
       "      <th>50 to 54 years</th>\n",
       "      <td>2254239.06</td>\n",
       "      <td>10455685.32</td>\n",
       "      <td>6278702.57</td>\n",
       "    </tr>\n",
       "    <tr>\n",
       "      <th>55 to 59 years</th>\n",
       "      <td>1353466.37</td>\n",
       "      <td>6256845.35</td>\n",
       "      <td>3811391.64</td>\n",
       "    </tr>\n",
       "    <tr>\n",
       "      <th>60+ years</th>\n",
       "      <td>819871.15</td>\n",
       "      <td>3646574.14</td>\n",
       "      <td>2307276.46</td>\n",
       "    </tr>\n",
       "  </tbody>\n",
       "</table>\n",
       "</div>"
      ],
      "text/plain": [
       "                      2015         2016         2017\n",
       "AGE_GROUP                                           \n",
       "Under 22 years  4645259.90  19997427.95  11241241.13\n",
       "22 to 24 years  2736896.21  12536421.99   7331182.13\n",
       "25 to 29 years  3381514.49  15503352.39   9820264.80\n",
       "30 to 39 years  5821662.85  27218781.06  16923600.29\n",
       "40 to 49 years  5902459.00  26964781.01  16642302.69\n",
       "50 to 54 years  2254239.06  10455685.32   6278702.57\n",
       "55 to 59 years  1353466.37   6256845.35   3811391.64\n",
       "60+ years        819871.15   3646574.14   2307276.46"
      ]
     },
     "execution_count": 219,
     "metadata": {},
     "output_type": "execute_result"
    }
   ],
   "source": [
    "# Groupby AGE cohorts, sum expenditure, convert back to DF, rename column\n",
    "\n",
    "age_analysis_15 = UE_analysis_df.loc[(UE_analysis_df[\"YEAR\"] == 2015)]\n",
    "agegroup_df15 = age_analysis_15.groupby(\"AGE_GROUP\")[\"EXPENDITURE\"].sum()\n",
    "agegroup_15 = agegroup_df15.to_frame()\n",
    "agegroup15 = agegroup_15.rename(columns={\"EXPENDITURE\": \"2015\"})\n",
    "agegroup15\n",
    "\n",
    "age_analysis_16 = UE_analysis_df.loc[(UE_analysis_df[\"YEAR\"] == 2016)]\n",
    "agegroup_df16 = age_analysis_16.groupby(\"AGE_GROUP\")[\"EXPENDITURE\"].sum()\n",
    "agegroup_16 = agegroup_df16.to_frame()\n",
    "agegroup16 = agegroup_16.rename(columns={\"EXPENDITURE\": \"2016\"})\n",
    "agegroup16\n",
    "\n",
    "age_analysis_17 = UE_analysis_df.loc[(UE_analysis_df[\"YEAR\"] == 2017)]\n",
    "agegroup_df17 = age_analysis_17.groupby(\"AGE_GROUP\")[\"EXPENDITURE\"].sum()\n",
    "agegroup_17 = agegroup_df17.to_frame()\n",
    "agegroup17 = agegroup_17.rename(columns={\"EXPENDITURE\": \"2017\"})\n",
    "agegroup_17\n",
    "\n",
    "# Merge dataframes in prep for plot\n",
    "age_plot1516 = pd.merge(agegroup15, agegroup16, on=\"AGE_GROUP\")\n",
    "age_plot = pd.merge(age_plot1516, agegroup17, on=\"AGE_GROUP\")\n",
    "age_plot\n",
    "\n",
    "age_plot1 = age_plot.loc[['Under 22 years', '22 to 24 years', '25 to 29 years', '30 to 39 years', '40 to 49 years',\n",
    "          '50 to 54 years', '55 to 59 years', '60+ years'], :]\n",
    "age_plot1"
   ]
  },
  {
   "cell_type": "code",
   "execution_count": 220,
   "metadata": {},
   "outputs": [],
   "source": [
    "year1 = age_plot1.keys()"
   ]
  },
  {
   "cell_type": "code",
   "execution_count": 224,
   "metadata": {},
   "outputs": [
    {
     "data": {
      "text/plain": [
       "(array([0, 1, 2, 3, 4, 5, 6, 7]),\n",
       " [Text(0, 0, 'Under 22 years'),\n",
       "  Text(1, 0, '22 to 24 years'),\n",
       "  Text(2, 0, '25 to 29 years'),\n",
       "  Text(3, 0, '30 to 39 years'),\n",
       "  Text(4, 0, '40 to 49 years'),\n",
       "  Text(5, 0, '50 to 54 years'),\n",
       "  Text(6, 0, '55 to 59 years'),\n",
       "  Text(7, 0, '60+ years')])"
      ]
     },
     "execution_count": 224,
     "metadata": {},
     "output_type": "execute_result"
    },
    {
     "data": {
      "image/png": "[encoded data removed]",
      "text/plain": [
       "<Figure size 432x288 with 1 Axes>"
      ]
     },
     "metadata": {
      "needs_background": "light"
     },
     "output_type": "display_data"
    }
   ],
   "source": [
    "age_plot1.plot(kind='bar', stacked=True)\n",
    "plt.title(\"Utilisation by age cohort\")\n",
    "plt.xlabel(\"Age cohorts\")\n",
    "plt.ylabel(\"Support ($million)\")\n",
    "# labels = ['< 22 yrs','22-24 yrs', '25-29 yrs', '30-39 yrs', '40-49 yrs', '50-54 yrs', '55-59 yrs', '60+ yrs']\n",
    "plt.xticks(rotation=45)\n"
   ]
  },
  {
   "cell_type": "code",
   "execution_count": 155,
   "metadata": {},
   "outputs": [
    {
     "data": {
      "text/html": [
       "<div>\n",
       "<style scoped>\n",
       "    .dataframe tbody tr th:only-of-type {\n",
       "        vertical-align: middle;\n",
       "    }\n",
       "\n",
       "    .dataframe tbody tr th {\n",
       "        vertical-align: top;\n",
       "    }\n",
       "\n",
       "    .dataframe thead th {\n",
       "        text-align: right;\n",
       "    }\n",
       "</style>\n",
       "<table border=\"1\" class=\"dataframe\">\n",
       "  <thead>\n",
       "    <tr style=\"text-align: right;\">\n",
       "      <th></th>\n",
       "      <th>2015</th>\n",
       "      <th>2016</th>\n",
       "      <th>2017</th>\n",
       "    </tr>\n",
       "    <tr>\n",
       "      <th>UE_GROUP</th>\n",
       "      <th></th>\n",
       "      <th></th>\n",
       "      <th></th>\n",
       "    </tr>\n",
       "  </thead>\n",
       "  <tbody>\n",
       "    <tr>\n",
       "      <th>12 to 23 Months</th>\n",
       "      <td>6100326.61</td>\n",
       "      <td>24982412.90</td>\n",
       "      <td>15854517.83</td>\n",
       "    </tr>\n",
       "    <tr>\n",
       "      <th>24 to 59 Months</th>\n",
       "      <td>8819225.62</td>\n",
       "      <td>38933044.32</td>\n",
       "      <td>23432694.12</td>\n",
       "    </tr>\n",
       "    <tr>\n",
       "      <th>60+ Months</th>\n",
       "      <td>4728627.80</td>\n",
       "      <td>22059553.96</td>\n",
       "      <td>14248127.84</td>\n",
       "    </tr>\n",
       "    <tr>\n",
       "      <th>Under 12 Months</th>\n",
       "      <td>7267189.00</td>\n",
       "      <td>36604858.03</td>\n",
       "      <td>20820621.92</td>\n",
       "    </tr>\n",
       "  </tbody>\n",
       "</table>\n",
       "</div>"
      ],
      "text/plain": [
       "                       2015         2016         2017\n",
       "UE_GROUP                                             \n",
       "12 to 23 Months  6100326.61  24982412.90  15854517.83\n",
       "24 to 59 Months  8819225.62  38933044.32  23432694.12\n",
       "60+ Months       4728627.80  22059553.96  14248127.84\n",
       "Under 12 Months  7267189.00  36604858.03  20820621.92"
      ]
     },
     "execution_count": 155,
     "metadata": {},
     "output_type": "execute_result"
    }
   ],
   "source": [
    "# Filter data in year categories, then groupby UE Group and sum expenditure\n",
    "# 2015 data\n",
    "UE15_analysis_df = UE_analysis_df.loc[(UE_analysis_df[\"YEAR\"] == 2015)]\n",
    "grpUE15_analysis = UE15_analysis_df.groupby(\"UE_GROUP\")[\"EXPENDITURE\"].sum()\n",
    "grpUE15_analysis_df = grpUE15_analysis.to_frame()\n",
    "grpUE15_analysis_df = grpUE15_analysis_df.rename(columns={\"EXPENDITURE\": \"2015\"})\n",
    "\n",
    "# 2016 data\n",
    "UE16_analysis_df = UE_analysis_df.loc[(UE_analysis_df[\"YEAR\"] == 2016)]\n",
    "grpUE16_analysis = UE16_analysis_df.groupby(\"UE_GROUP\")[\"EXPENDITURE\"].sum()\n",
    "grpUE16_analysis_df = grpUE16_analysis.to_frame()\n",
    "grpUE16_analysis_df = grpUE16_analysis_df.rename(columns={\"EXPENDITURE\": \"2016\"})\n",
    "grpUE16_analysis_df\n",
    "\n",
    "# 2017 data\n",
    "UE17_analysis_df = UE_analysis_df.loc[(UE_analysis_df[\"YEAR\"] == 2017)]\n",
    "grpUE17_analysis = UE17_analysis_df.groupby(\"UE_GROUP\")[\"EXPENDITURE\"].sum()\n",
    "grpUE17_analysis_df = grpUE17_analysis.to_frame()\n",
    "grpUE17_analysis_df = grpUE17_analysis_df.rename(columns={\"EXPENDITURE\": \"2017\"})\n",
    "grpUE17_analysis_df.head()\n",
    "\n",
    "\n",
    "# grpUE17_analysis_df = UE17_analysis_df.groupby(\"UE_Group\")[\"AGE_GROUP\"].agg({\"EXPENDITURE\": ['sum']})\n",
    "\n",
    "# Merge dataframes in prep for plotting\n",
    "UE_plot1516 = pd.merge(grpUE15_analysis_df, grpUE16_analysis_df, on=\"UE_GROUP\")\n",
    "UE_plot = pd.merge(UE_plot1516, grpUE17_analysis_df, on=\"UE_GROUP\")\n",
    "UE_plot\n"
   ]
  },
  {
   "cell_type": "code",
   "execution_count": 174,
   "metadata": {},
   "outputs": [
    {
     "data": {
      "text/plain": [
       "Index(['2015', '2016', '2017'], dtype='object')"
      ]
     },
     "execution_count": 174,
     "metadata": {},
     "output_type": "execute_result"
    }
   ],
   "source": [
    "years = UE_plot.keys()\n",
    "years"
   ]
  },
  {
   "cell_type": "code",
   "execution_count": 200,
   "metadata": {},
   "outputs": [
    {
     "data": {
      "image/png": "[encoded data removed]",
      "text/plain": [
       "<Figure size 432x288 with 1 Axes>"
      ]
     },
     "metadata": {
      "needs_background": "light"
     },
     "output_type": "display_data"
    },
    {
     "data": {
      "text/plain": [
       "<Figure size 648x864 with 0 Axes>"
      ]
     },
     "metadata": {},
     "output_type": "display_data"
    }
   ],
   "source": [
    "# Plot data into line chart with multiple lines\n",
    "UE_u12, = plt.plot(years, UE_plot.loc[\"Under 12 Months\",[\"2015\",\"2016\",\"2017\"]],\n",
    "                    color=\"red\",label=\"Under 12 Months\")\n",
    "UE_12_23, = plt.plot(years, UE_plot.loc[\"12 to 23 Months\",[\"2015\",\"2016\",\"2017\"]],\n",
    "                    color=\"green\",label=\"12 to 23 Months\")\n",
    "UE_24_59, = plt.plot(years, UE_plot.loc[\"24 to 59 Months\",[\"2015\",\"2016\",\"2017\"]],\n",
    "                    color=\"blue\",label=\"24 to 59 Months\")\n",
    "UE_60up, = plt.plot(years, UE_plot.loc[\"60+ Months\",[\"2015\",\"2016\",\"2017\"]],\n",
    "                    color=\"orange\",label=\"60+ Months\")\n",
    "\n",
    "\n",
    "# Legend\n",
    "plt.legend(handles=[UE_u12, UE_12_23, UE_24_59, UE_60up], loc= \"best\")\n",
    "\n",
    "\n",
    "# Title, x y axis labels, \n",
    "plt.title(\"Support for each, 'months unemployed' cohort\")\n",
    "plt.xlabel(\"Years\")\n",
    "plt.ylabel(\"Support ($million)\")\n",
    "plt.figure(figsize=(9,12))\n",
    "plt.show()"
   ]
  }
 ],
 "metadata": {
  "kernelspec": {
   "display_name": "Python 3.9.7 64-bit (system)",
   "language": "python",
   "name": "python3"
  },
  "language_info": {
   "codemirror_mode": {
    "name": "ipython",
    "version": 3
   },
   "file_extension": ".py",
   "mimetype": "text/x-python",
   "name": "python",
   "nbconvert_exporter": "python",
   "pygments_lexer": "ipython3",
   "version": "3.9.7"
  },
  "orig_nbformat": 4,
  "vscode": {
   "interpreter": {
    "hash": "18271aad1876cc9cfc615d34d1aa7280ac7582e5b6f3e83d8f2c4f473fe20b56"
   }
  }
 },
 "nbformat": 4,
 "nbformat_minor": 2
}
