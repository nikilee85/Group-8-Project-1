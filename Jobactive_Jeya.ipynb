{
 "cells": [
  {
   "cell_type": "code",
   "execution_count": 2,
   "metadata": {},
   "outputs": [],
   "source": [
    "import pandas as pd\n",
    "\n",
    "# #Study Data File\n",
    "# # https://www.kaggle.com/datasets/ariosliew92/jobactive-employment-fund?resource=download\n",
    "df = pd.read_csv(\"Data/Jobactive.csv\")"
   ]
  },
  {
   "cell_type": "code",
   "execution_count": 3,
   "metadata": {},
   "outputs": [],
   "source": [
    "#Create a subset of data to work with\n",
    "#Choose only the data from 2017 with the people who are both indigenous, homeless and ex-offenders\n",
    "#Filter by year 2017\n",
    "filter1 = df[df[\"year\"] == 2017]\n",
    "filter1.value_counts\n",
    "\n",
    "#Filter by INDIGENOUS people\n",
    "filter2 = filter1[filter1[\"INDIGENOUS\"] == 1]\n",
    "filter2.value_counts\n",
    "\n",
    "#Filter by Homeless people\n",
    "filter3 = filter2[filter2[\"HOMELESS\"] == 1]\n",
    "filter3.value_counts\n",
    "\n",
    "#Filter by Ex Offenders\n",
    "data = filter3[filter3[\"EX_OFFENDER\"] == 1]\n",
    "data.value_counts\n",
    "\n",
    "#Save subset of data to work with as a CSV file\n",
    "data.to_csv(\"Data/Jobactive2017.csv\")\n"
   ]
  }
 ],
 "metadata": {
  "kernelspec": {
   "display_name": "Python 3.9.12 ('base')",
   "language": "python",
   "name": "python3"
  },
  "language_info": {
   "codemirror_mode": {
    "name": "ipython",
    "version": 3
   },
   "file_extension": ".py",
   "mimetype": "text/x-python",
   "name": "python",
   "nbconvert_exporter": "python",
   "pygments_lexer": "ipython3",
   "version": "3.9.12"
  },
  "vscode": {
   "interpreter": {
    "hash": "77cf9c26067d3e442e1e361c7d6b0426c395c21bc22dd0513e119bdb95df5c23"
   }
  }
 },
 "nbformat": 4,
 "nbformat_minor": 2
}
